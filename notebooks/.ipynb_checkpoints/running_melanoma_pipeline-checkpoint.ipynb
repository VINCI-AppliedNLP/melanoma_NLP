{
 "cells": [
  {
   "cell_type": "code",
   "execution_count": null,
   "id": "1dac59de-bb43-46fa-8fe6-99d3f24ffd59",
   "metadata": {},
   "outputs": [],
   "source": [
    "import sys\n",
    "#sys.path.append('../condensed_pipeline') #Include path to top_morph_met_nlp if not current directory\n",
    "from melanoma_nlp import *\n",
    "from medspacy.visualization import MedspaCyVisualizerWidget\n",
    "from medspacy.visualization import visualize_dep, visualize_ent\n",
    "from sklearn.metrics import accuracy_score,precision_score,recall_score,f1_score, confusion_matrix, classification_report"
   ]
  },
  {
   "cell_type": "markdown",
   "id": "5305abb8-caf3-44d4-9e7d-d4801ffc9cd2",
   "metadata": {},
   "source": [
    "## Table import and setup\n",
    "Changes required for the below cell for table import, docID, and sourceText setup"
   ]
  },
  {
   "cell_type": "markdown",
   "id": "62d0d522-5251-4a6d-b8be-8178cfa01ede",
   "metadata": {},
   "source": [
    "## Example CSV import with synthetic data"
   ]
  },
  {
   "cell_type": "code",
   "execution_count": 5,
   "id": "1511e3a6-967a-414d-9e15-5b0bc6a94680",
   "metadata": {},
   "outputs": [],
   "source": [
    "notes_df = pd.read_csv(\"data/input/synthetic_skin_biopsy_pathology_notes.csv\")"
   ]
  },
  {
   "cell_type": "markdown",
   "id": "d17495ac-1060-4ef3-a94d-202a3d6ffacc",
   "metadata": {},
   "source": [
    "## Database Import "
   ]
  },
  {
   "cell_type": "code",
   "execution_count": null,
   "id": "07d940ce-f88c-4d37-ba83-fb37d30e3fe0",
   "metadata": {},
   "outputs": [],
   "source": [
    "##If needed, change the db_conn_str used\n",
    "#This is the connection information used by 'pyodbc.connect(***db_conn_str***)'\n",
    "#This will be removed when uploading to github\n",
    "db_server = ''\n",
    "db_db = ''\n",
    "\n",
    "notes_df = table_import(\n",
    "\"\"\"\n",
    "    SELECT DISTINCT * FROM ***INSERT INPUT TABLE HERE***\n",
    "\"\"\",\n",
    "    db_server,\n",
    "    db_db\n",
    ")\n",
    "\n",
    "### Below set the docID to whatever the unique id is\n",
    "#notes_df['docID'] = notes_df['textID']#notes_df.ReportID.astype(str) + \"_\" + notes_df.DocumentID.astype(str) + \"_\" + notes_df.SourceTable.astype(str)\n",
    "\n",
    "### Below set the sourceText to whatever the text to-be-processed is\n",
    "sourceText_col_name = 'sourceText'"
   ]
  },
  {
   "cell_type": "code",
   "execution_count": 6,
   "id": "679a0d18-556b-4d8c-99b4-bdbedf1a6821",
   "metadata": {},
   "outputs": [
    {
     "data": {
      "text/html": [
       "<div>\n",
       "<style scoped>\n",
       "    .dataframe tbody tr th:only-of-type {\n",
       "        vertical-align: middle;\n",
       "    }\n",
       "\n",
       "    .dataframe tbody tr th {\n",
       "        vertical-align: top;\n",
       "    }\n",
       "\n",
       "    .dataframe thead th {\n",
       "        text-align: right;\n",
       "    }\n",
       "</style>\n",
       "<table border=\"1\" class=\"dataframe\">\n",
       "  <thead>\n",
       "    <tr style=\"text-align: right;\">\n",
       "      <th></th>\n",
       "      <th>note_id</th>\n",
       "      <th>person_id</th>\n",
       "      <th>note_date</th>\n",
       "      <th>note_datetime</th>\n",
       "      <th>note_type_concept_id</th>\n",
       "      <th>note_class_concept_id</th>\n",
       "      <th>note_title</th>\n",
       "      <th>encoding_concept_id</th>\n",
       "      <th>language_concept_id</th>\n",
       "      <th>provider_id</th>\n",
       "      <th>visit_occurrence_id</th>\n",
       "      <th>visit_detail_id</th>\n",
       "      <th>note_text</th>\n",
       "    </tr>\n",
       "  </thead>\n",
       "  <tbody>\n",
       "    <tr>\n",
       "      <th>0</th>\n",
       "      <td>1</td>\n",
       "      <td>101</td>\n",
       "      <td>2024-01-01</td>\n",
       "      <td>2024-01-01 00:00:00+00:00</td>\n",
       "      <td>44814639</td>\n",
       "      <td>44814650</td>\n",
       "      <td>Pathology Report</td>\n",
       "      <td>0</td>\n",
       "      <td>4180186</td>\n",
       "      <td>201</td>\n",
       "      <td>301</td>\n",
       "      <td>401</td>\n",
       "      <td>Specimen: Skin biopsy, right ear. Diagnosis: C...</td>\n",
       "    </tr>\n",
       "    <tr>\n",
       "      <th>1</th>\n",
       "      <td>2</td>\n",
       "      <td>102</td>\n",
       "      <td>2024-01-02</td>\n",
       "      <td>2024-01-02 00:00:00+00:00</td>\n",
       "      <td>44814639</td>\n",
       "      <td>44814650</td>\n",
       "      <td>Pathology Report</td>\n",
       "      <td>0</td>\n",
       "      <td>4180186</td>\n",
       "      <td>202</td>\n",
       "      <td>302</td>\n",
       "      <td>402</td>\n",
       "      <td>Specimen: Skin biopsy, left hand. Diagnosis: R...</td>\n",
       "    </tr>\n",
       "    <tr>\n",
       "      <th>2</th>\n",
       "      <td>3</td>\n",
       "      <td>103</td>\n",
       "      <td>2024-01-03</td>\n",
       "      <td>2024-01-03 00:00:00+00:00</td>\n",
       "      <td>44814639</td>\n",
       "      <td>44814650</td>\n",
       "      <td>Pathology Report</td>\n",
       "      <td>0</td>\n",
       "      <td>4180186</td>\n",
       "      <td>203</td>\n",
       "      <td>303</td>\n",
       "      <td>403</td>\n",
       "      <td>Specimen: Skin biopsy, right calf. Diagnosis: ...</td>\n",
       "    </tr>\n",
       "    <tr>\n",
       "      <th>3</th>\n",
       "      <td>4</td>\n",
       "      <td>104</td>\n",
       "      <td>2024-01-04</td>\n",
       "      <td>2024-01-04 00:00:00+00:00</td>\n",
       "      <td>44814639</td>\n",
       "      <td>44814650</td>\n",
       "      <td>Pathology Report</td>\n",
       "      <td>0</td>\n",
       "      <td>4180186</td>\n",
       "      <td>204</td>\n",
       "      <td>304</td>\n",
       "      <td>404</td>\n",
       "      <td>Specimen: Skin biopsy, left foot. Diagnosis: A...</td>\n",
       "    </tr>\n",
       "    <tr>\n",
       "      <th>4</th>\n",
       "      <td>5</td>\n",
       "      <td>105</td>\n",
       "      <td>2024-01-05</td>\n",
       "      <td>2024-01-05 00:00:00+00:00</td>\n",
       "      <td>44814639</td>\n",
       "      <td>44814650</td>\n",
       "      <td>Pathology Report</td>\n",
       "      <td>0</td>\n",
       "      <td>4180186</td>\n",
       "      <td>205</td>\n",
       "      <td>305</td>\n",
       "      <td>405</td>\n",
       "      <td>Specimen: Skin biopsy, right cheek. Diagnosis:...</td>\n",
       "    </tr>\n",
       "  </tbody>\n",
       "</table>\n",
       "</div>"
      ],
      "text/plain": [
       "   note_id  person_id   note_date              note_datetime  \\\n",
       "0        1        101  2024-01-01  2024-01-01 00:00:00+00:00   \n",
       "1        2        102  2024-01-02  2024-01-02 00:00:00+00:00   \n",
       "2        3        103  2024-01-03  2024-01-03 00:00:00+00:00   \n",
       "3        4        104  2024-01-04  2024-01-04 00:00:00+00:00   \n",
       "4        5        105  2024-01-05  2024-01-05 00:00:00+00:00   \n",
       "\n",
       "   note_type_concept_id  note_class_concept_id        note_title  \\\n",
       "0              44814639               44814650  Pathology Report   \n",
       "1              44814639               44814650  Pathology Report   \n",
       "2              44814639               44814650  Pathology Report   \n",
       "3              44814639               44814650  Pathology Report   \n",
       "4              44814639               44814650  Pathology Report   \n",
       "\n",
       "   encoding_concept_id  language_concept_id  provider_id  visit_occurrence_id  \\\n",
       "0                    0              4180186          201                  301   \n",
       "1                    0              4180186          202                  302   \n",
       "2                    0              4180186          203                  303   \n",
       "3                    0              4180186          204                  304   \n",
       "4                    0              4180186          205                  305   \n",
       "\n",
       "   visit_detail_id                                          note_text  \n",
       "0              401  Specimen: Skin biopsy, right ear. Diagnosis: C...  \n",
       "1              402  Specimen: Skin biopsy, left hand. Diagnosis: R...  \n",
       "2              403  Specimen: Skin biopsy, right calf. Diagnosis: ...  \n",
       "3              404  Specimen: Skin biopsy, left foot. Diagnosis: A...  \n",
       "4              405  Specimen: Skin biopsy, right cheek. Diagnosis:...  "
      ]
     },
     "execution_count": 6,
     "metadata": {},
     "output_type": "execute_result"
    }
   ],
   "source": [
    "notes_df.head()"
   ]
  },
  {
   "cell_type": "code",
   "execution_count": 7,
   "id": "28052269-b8d3-4f33-91b0-8c40a9e2a712",
   "metadata": {},
   "outputs": [],
   "source": [
    "nlp = build_nlp(file_path='../resources')"
   ]
  },
  {
   "cell_type": "code",
   "execution_count": 8,
   "id": "c1cf736c-46d8-4416-be84-02ba4c88016a",
   "metadata": {},
   "outputs": [
    {
     "name": "stdout",
     "output_type": "stream",
     "text": [
      "[(melanoma, 'MELANOMA', 'MELANOMA'), (ulcerated, 'ULCERATED', '')]\n",
      "\n",
      "(melanoma, TargetRule(literal=\"Histology_group2\", category=\"MEL_UNSPEC\", pattern=[{'_': {'concept_tag': 'MELANOMA'}}], attributes=None, on_match=None))\n"
     ]
    },
    {
     "ename": "ImportError",
     "evalue": "cannot import name 'display' from 'IPython.core.display' (/opt/anaconda3/envs/melanoma_nlp/lib/python3.12/site-packages/IPython/core/display.py)",
     "output_type": "error",
     "traceback": [
      "\u001b[31m---------------------------------------------------------------------------\u001b[39m",
      "\u001b[31mImportError\u001b[39m                               Traceback (most recent call last)",
      "\u001b[36mCell\u001b[39m\u001b[36m \u001b[39m\u001b[32mIn[8]\u001b[39m\u001b[32m, line 1\u001b[39m\n\u001b[32m----> \u001b[39m\u001b[32m1\u001b[39m \u001b[43mnlp_checker\u001b[49m\u001b[43m(\u001b[49m\u001b[33;43m\"\u001b[39;49m\u001b[33;43mmelanoma ulcerated\u001b[39;49m\u001b[33;43m\"\u001b[39;49m\u001b[43m,\u001b[49m\u001b[43mnlp\u001b[49m\u001b[43m)\u001b[49m\n",
      "\u001b[36mFile \u001b[39m\u001b[32m~/workspace/melanoma_NLP/notebooks/melanoma_nlp.py:417\u001b[39m, in \u001b[36mnlp_checker\u001b[39m\u001b[34m(test_phrase, nlp)\u001b[39m\n\u001b[32m    415\u001b[39m \u001b[38;5;28mprint\u001b[39m()\n\u001b[32m    416\u001b[39m \u001b[38;5;28mprint\u001b[39m(\u001b[33m\"\u001b[39m\u001b[38;5;130;01m\\n\u001b[39;00m\u001b[38;5;130;01m\\n\u001b[39;00m\u001b[33m\"\u001b[39m.join(ent_list))\n\u001b[32m--> \u001b[39m\u001b[32m417\u001b[39m \u001b[43mvisualize_ent\u001b[49m\u001b[43m(\u001b[49m\u001b[43mdoc\u001b[49m\u001b[43m)\u001b[49m\n",
      "\u001b[36mFile \u001b[39m\u001b[32m/opt/anaconda3/envs/melanoma_nlp/lib/python3.12/site-packages/medspacy/visualization.py:113\u001b[39m, in \u001b[36mvisualize_ent\u001b[39m\u001b[34m(doc, context, sections, jupyter, colors, target_span_type, span_group_name)\u001b[39m\n\u001b[32m    103\u001b[39m     viz_data = [\n\u001b[32m    104\u001b[39m         {\n\u001b[32m    105\u001b[39m             \u001b[33m\"\u001b[39m\u001b[33mtext\u001b[39m\u001b[33m\"\u001b[39m: doc.text,\n\u001b[32m    106\u001b[39m             \u001b[33m\"\u001b[39m\u001b[33ments\u001b[39m\u001b[33m\"\u001b[39m: ents_display_data,\n\u001b[32m    107\u001b[39m         }\n\u001b[32m    108\u001b[39m     ]\n\u001b[32m    110\u001b[39m     options = {\n\u001b[32m    111\u001b[39m         \u001b[33m\"\u001b[39m\u001b[33mcolors\u001b[39m\u001b[33m\"\u001b[39m: colors,\n\u001b[32m    112\u001b[39m     }\n\u001b[32m--> \u001b[39m\u001b[32m113\u001b[39m \u001b[38;5;28;01mreturn\u001b[39;00m \u001b[43mdisplacy\u001b[49m\u001b[43m.\u001b[49m\u001b[43mrender\u001b[49m\u001b[43m(\u001b[49m\n\u001b[32m    114\u001b[39m \u001b[43m    \u001b[49m\u001b[43mviz_data\u001b[49m\u001b[43m,\u001b[49m\u001b[43m \u001b[49m\u001b[43mstyle\u001b[49m\u001b[43m=\u001b[49m\u001b[33;43m\"\u001b[39;49m\u001b[33;43ment\u001b[39;49m\u001b[33;43m\"\u001b[39;49m\u001b[43m,\u001b[49m\u001b[43m \u001b[49m\u001b[43mmanual\u001b[49m\u001b[43m=\u001b[49m\u001b[38;5;28;43;01mTrue\u001b[39;49;00m\u001b[43m,\u001b[49m\u001b[43m \u001b[49m\u001b[43moptions\u001b[49m\u001b[43m=\u001b[49m\u001b[43moptions\u001b[49m\u001b[43m,\u001b[49m\u001b[43m \u001b[49m\u001b[43mjupyter\u001b[49m\u001b[43m=\u001b[49m\u001b[43mjupyter\u001b[49m\n\u001b[32m    115\u001b[39m \u001b[43m\u001b[49m\u001b[43m)\u001b[49m\n",
      "\u001b[36mFile \u001b[39m\u001b[32m/opt/anaconda3/envs/melanoma_nlp/lib/python3.12/site-packages/spacy/displacy/__init__.py:69\u001b[39m, in \u001b[36mrender\u001b[39m\u001b[34m(docs, style, page, minify, jupyter, options, manual)\u001b[39m\n\u001b[32m     65\u001b[39m     html = RENDER_WRAPPER(html)\n\u001b[32m     66\u001b[39m \u001b[38;5;28;01mif\u001b[39;00m jupyter \u001b[38;5;129;01mor\u001b[39;00m (jupyter \u001b[38;5;129;01mis\u001b[39;00m \u001b[38;5;28;01mNone\u001b[39;00m \u001b[38;5;129;01mand\u001b[39;00m is_in_jupyter()):\n\u001b[32m     67\u001b[39m     \u001b[38;5;66;03m# return HTML rendered by IPython display()\u001b[39;00m\n\u001b[32m     68\u001b[39m     \u001b[38;5;66;03m# See #4840 for details on span wrapper to disable mathjax\u001b[39;00m\n\u001b[32m---> \u001b[39m\u001b[32m69\u001b[39m     \u001b[38;5;28;01mfrom\u001b[39;00m\u001b[38;5;250m \u001b[39m\u001b[34;01mIPython\u001b[39;00m\u001b[34;01m.\u001b[39;00m\u001b[34;01mcore\u001b[39;00m\u001b[34;01m.\u001b[39;00m\u001b[34;01mdisplay\u001b[39;00m\u001b[38;5;250m \u001b[39m\u001b[38;5;28;01mimport\u001b[39;00m HTML, display\n\u001b[32m     71\u001b[39m     \u001b[38;5;28;01mreturn\u001b[39;00m display(HTML(\u001b[33m'\u001b[39m\u001b[33m<span class=\u001b[39m\u001b[33m\"\u001b[39m\u001b[33mtex2jax_ignore\u001b[39m\u001b[33m\"\u001b[39m\u001b[33m>\u001b[39m\u001b[38;5;132;01m{}\u001b[39;00m\u001b[33m</span>\u001b[39m\u001b[33m'\u001b[39m.format(html)))\n\u001b[32m     72\u001b[39m \u001b[38;5;28;01mreturn\u001b[39;00m html\n",
      "\u001b[31mImportError\u001b[39m: cannot import name 'display' from 'IPython.core.display' (/opt/anaconda3/envs/melanoma_nlp/lib/python3.12/site-packages/IPython/core/display.py)"
     ]
    }
   ],
   "source": [
    "nlp_checker(\"melanoma ulcerated\",nlp)"
   ]
  },
  {
   "cell_type": "code",
   "execution_count": 11,
   "id": "cfa36c6f-9154-43d6-805a-69fd97014692",
   "metadata": {},
   "outputs": [
    {
     "name": "stdout",
     "output_type": "stream",
     "text": [
      "Execution time: 0.20429110527038574 seconds\n",
      "Execution time: 0.003404851754506429 minutes\n"
     ]
    }
   ],
   "source": [
    "import time\n",
    "\n",
    "start_time = time.time()\n",
    "\n",
    "docs = run_nlp(notes_df['note_text'].astype(str),nlp)\n",
    "\n",
    "end_time = time.time()\n",
    "\n",
    "print(f\"Execution time: {end_time - start_time} seconds\")\n",
    "print(f\"Execution time: {(end_time - start_time)/60} minutes\")"
   ]
  },
  {
   "cell_type": "code",
   "execution_count": 15,
   "id": "2018ad72-c600-4b08-b76a-40839ce921dc",
   "metadata": {},
   "outputs": [
    {
     "name": "stdout",
     "output_type": "stream",
     "text": [
      "Requirement already satisfied: ipython in /opt/anaconda3/envs/melanoma_nlp/lib/python3.12/site-packages (9.0.0)\n",
      "Requirement already satisfied: decorator in /opt/anaconda3/envs/melanoma_nlp/lib/python3.12/site-packages (from ipython) (5.2.1)\n",
      "Requirement already satisfied: ipython-pygments-lexers in /opt/anaconda3/envs/melanoma_nlp/lib/python3.12/site-packages (from ipython) (1.1.1)\n",
      "Requirement already satisfied: jedi>=0.16 in /opt/anaconda3/envs/melanoma_nlp/lib/python3.12/site-packages (from ipython) (0.19.2)\n",
      "Requirement already satisfied: matplotlib-inline in /opt/anaconda3/envs/melanoma_nlp/lib/python3.12/site-packages (from ipython) (0.1.7)\n",
      "Requirement already satisfied: pexpect>4.3 in /opt/anaconda3/envs/melanoma_nlp/lib/python3.12/site-packages (from ipython) (4.9.0)\n",
      "Requirement already satisfied: prompt_toolkit<3.1.0,>=3.0.41 in /opt/anaconda3/envs/melanoma_nlp/lib/python3.12/site-packages (from ipython) (3.0.50)\n",
      "Requirement already satisfied: pygments>=2.4.0 in /opt/anaconda3/envs/melanoma_nlp/lib/python3.12/site-packages (from ipython) (2.19.1)\n",
      "Requirement already satisfied: stack_data in /opt/anaconda3/envs/melanoma_nlp/lib/python3.12/site-packages (from ipython) (0.6.3)\n",
      "Requirement already satisfied: traitlets>=5.13.0 in /opt/anaconda3/envs/melanoma_nlp/lib/python3.12/site-packages (from ipython) (5.14.3)\n",
      "Requirement already satisfied: parso<0.9.0,>=0.8.4 in /opt/anaconda3/envs/melanoma_nlp/lib/python3.12/site-packages (from jedi>=0.16->ipython) (0.8.4)\n",
      "Requirement already satisfied: ptyprocess>=0.5 in /opt/anaconda3/envs/melanoma_nlp/lib/python3.12/site-packages (from pexpect>4.3->ipython) (0.7.0)\n",
      "Requirement already satisfied: wcwidth in /opt/anaconda3/envs/melanoma_nlp/lib/python3.12/site-packages (from prompt_toolkit<3.1.0,>=3.0.41->ipython) (0.2.13)\n",
      "Requirement already satisfied: executing>=1.2.0 in /opt/anaconda3/envs/melanoma_nlp/lib/python3.12/site-packages (from stack_data->ipython) (2.1.0)\n",
      "Requirement already satisfied: asttokens>=2.1.0 in /opt/anaconda3/envs/melanoma_nlp/lib/python3.12/site-packages (from stack_data->ipython) (3.0.0)\n",
      "Requirement already satisfied: pure_eval in /opt/anaconda3/envs/melanoma_nlp/lib/python3.12/site-packages (from stack_data->ipython) (0.2.3)\n",
      "Note: you may need to restart the kernel to use updated packages.\n"
     ]
    }
   ],
   "source": []
  },
  {
   "cell_type": "code",
   "execution_count": 14,
   "id": "cf061c5e-d712-4961-bb6c-c7f9c0ff3546",
   "metadata": {},
   "outputs": [
    {
     "data": {
      "application/vnd.jupyter.widget-view+json": {
       "model_id": "3d1b0b6abe3147508f31711eaed327dc",
       "version_major": 2,
       "version_minor": 0
      },
      "text/plain": [
       "Box(children=(HBox(children=(RadioButtons(options=('Ent', 'Dep', 'Both'), value='Ent'), Button(description='Pr…"
      ]
     },
     "metadata": {},
     "output_type": "display_data"
    }
   ],
   "source": [
    "w = MedspaCyVisualizerWidget(docs)"
   ]
  },
  {
   "cell_type": "markdown",
   "id": "0eb70dfe-c9c8-47f6-8392-0e1fe7a2888f",
   "metadata": {},
   "source": [
    "## Data Trasnformations"
   ]
  },
  {
   "cell_type": "code",
   "execution_count": null,
   "id": "6378bdd8-b7f2-45a1-bc8c-b0708ea21be8",
   "metadata": {
    "scrolled": true
   },
   "outputs": [],
   "source": [
    "transform_dict = data_transformation(docIDs=notes_df['docID'].tolist(),docs=docs)\n",
    "transform_dict['top_grouped']"
   ]
  },
  {
   "cell_type": "code",
   "execution_count": null,
   "id": "dacef26e-f8ec-4ac9-b170-e9b89b977076",
   "metadata": {},
   "outputs": [],
   "source": [
    "nlp_doc_df = transform_nlp_df(transform_dict['top_grouped'])"
   ]
  },
  {
   "cell_type": "markdown",
   "id": "a5f35d85-f911-431f-895d-d263265b7dbd",
   "metadata": {},
   "source": [
    "## Check output"
   ]
  },
  {
   "cell_type": "code",
   "execution_count": null,
   "id": "66ec68c6-c046-4ee8-b69b-794b0df5846c",
   "metadata": {},
   "outputs": [],
   "source": [
    "pd.set_option('display.max_columns',100)\n",
    "doc_num = 4163 #This number matches the number from medspacyvisualizerwidget\n",
    "check_table = transform_dict['top_grouped']\n",
    "check_table[check_table.doc_id == notes_df.iloc[doc_num].docID]"
   ]
  },
  {
   "cell_type": "code",
   "execution_count": null,
   "id": "191aeef8-e70a-4a44-8132-0d869e802f0b",
   "metadata": {},
   "outputs": [],
   "source": [
    "docID_val = '' #put docID here\n",
    "visualize_ent(nlp(notes_df[notes_df['docID'] == docID_val].sourceText.tolist()[0]))\n",
    "top_grouped = transform_dict['top_grouped']\n",
    "top_grouped[top_grouped['doc_id'] == docID_val]"
   ]
  },
  {
   "cell_type": "markdown",
   "id": "2568fce6-6aa6-459c-9844-7194b76435dd",
   "metadata": {
    "jp-MarkdownHeadingCollapsed": true
   },
   "source": [
    "# Performance check"
   ]
  },
  {
   "cell_type": "code",
   "execution_count": null,
   "id": "932ae2e4-fe07-4183-86e2-549c8ea5fe81",
   "metadata": {},
   "outputs": [],
   "source": [
    "db_server = ''\n",
    "db_db = ''\n",
    "\n",
    "annot_df = table_import(\n",
    "\"\"\"\n",
    " SELECT * FROM ****INSERT ANNOTATION SET***\n",
    "\"\"\"   ,db_server,\n",
    "    db_db\n",
    ")"
   ]
  },
  {
   "cell_type": "code",
   "execution_count": null,
   "id": "a98c9333-66f6-45f5-9b99-f9b60bce0671",
   "metadata": {},
   "outputs": [],
   "source": [
    "annot_doc_df = transform_annot_df(annot_df)"
   ]
  },
  {
   "cell_type": "code",
   "execution_count": null,
   "id": "2e35edc6-2380-4de4-90a8-e74e06093fd2",
   "metadata": {},
   "outputs": [],
   "source": [
    "merged_doc_df = notes_df[['textID']].merge(nlp_doc_df,left_on='textID',right_on='doc_id',how='left')\n",
    "merged_doc_df = merged_doc_df.merge(annot_doc_df,on='textID',how='left')\n",
    "binary_classification = 1\n",
    "if binary_classification:\n",
    "    merged_doc_df[['breslow_measurement_x','clark_x','Mitotic_index_x','breslow_measurement_y','clark_y','Mitotic_index_y']] = merged_doc_df[['breslow_measurement_x','clark_x','Mitotic_index_x','breslow_measurement_y','clark_y','Mitotic_index_y']].fillna(0)\n",
    "else:\n",
    "    merged_doc_df[['breslow_measurement_x','clark_x','Mitotic_index_x','breslow_measurement_y','clark_y','Mitotic_index_y']] = merged_doc_df[['breslow_measurement_x','clark_x','Mitotic_index_x','breslow_measurement_y','clark_y','Mitotic_index_y']].applymap(lambda x: set() if pd.isna(x) else x)\n",
    "merged_doc_df[['melanoma_x','metastasis_x','ulceration_status_x','melanoma_y','metastasis_y','ulceration_status_y']] = merged_doc_df[['melanoma_x','metastasis_x','ulceration_status_x','melanoma_y','metastasis_y','ulceration_status_y']].fillna(0)"
   ]
  },
  {
   "cell_type": "code",
   "execution_count": null,
   "id": "5908313e-9b0e-4a6b-8a89-047bcf72bdea",
   "metadata": {},
   "outputs": [],
   "source": [
    "def value_comparison(m1,m2,match_empty_sets = 0):\n",
    "    true_labels = []\n",
    "    predicted_labels = []\n",
    "    matches = 0\n",
    "    misses = 0\n",
    "    for a,b in zip(m1,m2):\n",
    "        if match_empty_sets:\n",
    "            if len(a) == 0 or pd.isna(a):\n",
    "                a = {'None'}\n",
    "            if len(b) == 0 or pd.isna(b):\n",
    "                b= {'None'}\n",
    "        else:\n",
    "            if pd.isna(a):\n",
    "                a = {}\n",
    "            if pd.isna(b):\n",
    "                b = {}\n",
    "        all_labels = set(a).union(set(b))\n",
    "        true_labels.extend([1 if x in a else 0 for x in all_labels])\n",
    "        predicted_labels.extend([1 if x in b else 0 for x in all_labels])\n",
    "        \n",
    "        if [1 if x in a else 0 for x in all_labels] == [1 if x in b else 0 for x in all_labels]:\n",
    "            matches += 1\n",
    "        else:\n",
    "            misses += 1\n",
    "        \n",
    "    \n",
    "    return classification_report(true_labels,predicted_labels,digits=3), matches / (matches + misses)"
   ]
  },
  {
   "cell_type": "code",
   "execution_count": null,
   "id": "a54d1e0a-f118-4581-a2a8-3f3b27853de2",
   "metadata": {},
   "outputs": [],
   "source": [
    "##Notes that y is considered ground truth here\n",
    "def melanoma_performance(df,binary_comparison=1):\n",
    "    if binary_comparison:\n",
    "        val_comparison = 0\n",
    "    else:\n",
    "        val_comparison = ['breslow_measurement','clark','Mitotic_index']\n",
    "    for feat in ['melanoma','breslow_measurement','clark','metastasis','ulceration_status','Mitotic_index']:\n",
    "        print(f\"\\nPerformance for {feat}:\\n\")\n",
    "        if binary_comparison:\n",
    "            print(classification_report(df[feat + '_y'].tolist(),df[feat + '_x'].tolist(),digits=3))\n",
    "        else:\n",
    "            if feat in val_comparison:\n",
    "                perf = value_comparison(df[feat + '_y'].tolist(),df[feat + '_x'].tolist(),match_empty_sets =0)\n",
    "                print(perf[0])\n",
    "                print(\"Doc-level accuracy: \",perf[1])\n",
    "            else:\n",
    "                print(classification_report(df[feat + '_y'].tolist(),df[feat + '_x'].tolist(),digits=3))\n",
    "    "
   ]
  },
  {
   "cell_type": "code",
   "execution_count": null,
   "id": "ed1fe5f5-bc69-4145-ab5b-7fcf3e2f343d",
   "metadata": {},
   "outputs": [],
   "source": [
    "melanoma_performance(merged_doc_df)"
   ]
  },
  {
   "cell_type": "markdown",
   "id": "94ba53aa-d513-4015-94c6-eb19a38ec61b",
   "metadata": {},
   "source": [
    "# UPLOADS"
   ]
  },
  {
   "cell_type": "code",
   "execution_count": null,
   "id": "67444ec4-83e2-446f-8b95-c58b61275a4c",
   "metadata": {},
   "outputs": [],
   "source": [
    "import pyodbc\n",
    "##Change destination table below\n",
    "conn_list = upload_to_cdw(df=transform_dict['top_grouped'].fillna('None'),dest_table='',db_name='',annotated_span_len = 8000,varchar_len = 400,other_int_col=[],other_float_col=[],db_server=db_server, db_db=db_db)\n",
    "conn_list = upload_to_cdw(df=transform_dict['long_df'].fillna('None'),dest_table='',db_name='',annotated_span_len = 8000,varchar_len = 400,other_int_col=[],other_float_col=[],db_server=db_server, db_db=db_db)"
   ]
  }
 ],
 "metadata": {
  "kernelspec": {
   "display_name": "Python 3 (ipykernel)",
   "language": "python",
   "name": "python3"
  },
  "language_info": {
   "codemirror_mode": {
    "name": "ipython",
    "version": 3
   },
   "file_extension": ".py",
   "mimetype": "text/x-python",
   "name": "python",
   "nbconvert_exporter": "python",
   "pygments_lexer": "ipython3",
   "version": "3.12.9"
  }
 },
 "nbformat": 4,
 "nbformat_minor": 5
}
