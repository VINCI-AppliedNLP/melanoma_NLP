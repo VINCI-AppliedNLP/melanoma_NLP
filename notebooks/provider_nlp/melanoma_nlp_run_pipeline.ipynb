{
 "cells": [
  {
   "cell_type": "code",
   "execution_count": null,
   "id": "11ca973e-2a87-4c18-be4e-3e2023aff201",
   "metadata": {},
   "outputs": [],
   "source": [
    "import sys\n",
    "#sys.path.append('../condensed_pipeline') #Include path to melanoma_nlp_provider if not current directory\n",
    "from melanoma_nlp_provider import *\n",
    "\n",
    "#If calculating performance, import below\n",
    "from sklearn.metrics import accuracy_score,precision_score,recall_score,f1_score, confusion_matrix, classification_report\n",
    "\n",
    "#If visualizing results using spacy, import below\n",
    "from medspacy.visualization import MedspaCyVisualizerWidget\n",
    "from medspacy.visualization import visualize_dep, visualize_ent"
   ]
  },
  {
   "cell_type": "markdown",
   "id": "cb68fbca-3d87-40d6-840e-af6a306b8929",
   "metadata": {
    "tags": []
   },
   "source": [
    "## Table import and setup\n",
    "Changes required for the below cell for table import, docID, and sourceText setup"
   ]
  },
  {
   "cell_type": "code",
   "execution_count": null,
   "id": "35c567bf-0772-4d8a-85b1-63bd5b7981bd",
   "metadata": {},
   "outputs": [],
   "source": [
    "##If needed, change the db_conn_str used\n",
    "#This is the connection information used by 'pyodbc.connect(***db_conn_str***)'\n",
    "#This will be removed when uploading to github\n",
    "db_server = 'vhacdwrb03.vha.med.va.gov'\n",
    "db_db = 'VINCI_CancerNLP'\n",
    "\n",
    "notes_df = table_import(#WHERE split='test'\n",
    "\"\"\"\n",
    "    SELECT distinct DocID,reporttext FROM [melanoma].[melanoma_provider_schema_master_notes_table] \n",
    "    WHERE split = 'train'\n",
    "\"\"\",#and samp_date = '2025-04-25 00:00:00' #for newer cases\n",
    "    db_server,\n",
    "    db_db\n",
    ")\n",
    "\n",
    "\n",
    "\n",
    "### Below set the docID to whatever the unique id is\n",
    "notes_df['docID'] = notes_df['DocID']#notes_df.ReportID.astype(str) + \"_\" + notes_df.DocumentID.astype(str) + \"_\" + notes_df.SourceTable.astype(str)#\n",
    "\n",
    "### Below set the sourceText to whatever the text to-be-processed is\n",
    "sourceText_col_name = 'reporttext'#'NoteText'\n",
    "\n",
    "notes_df.drop_duplicates(subset=['docID'],keep='first',inplace=True)\n",
    "notes_df.shape"
   ]
  },
  {
   "cell_type": "code",
   "execution_count": null,
   "id": "d599bbb2-fdec-4c08-8be3-ff76ca757288",
   "metadata": {},
   "outputs": [],
   "source": [
    "# This is currently the preferred way to build the nlp pipeline\n",
    "# A separate file will be designated to build the nlp pipeline\n",
    "nlp = build_nlp(file_path='../../resources/provider_notes_rules')"
   ]
  },
  {
   "cell_type": "code",
   "execution_count": null,
   "id": "745ac831-0579-40c1-931c-09425da5faac",
   "metadata": {},
   "outputs": [],
   "source": [
    "import time\n",
    "\n",
    "start_time = time.time()\n",
    "\n",
    "docs = run_nlp(notes_df[sourceText_col_name].astype(str),nlp)\n",
    "#docs = nlp.pipe(notes_df[sourceText_col_name].tolist())\n",
    "\n",
    "end_time = time.time()\n",
    "\n",
    "print(f\"Execution time: {end_time - start_time} seconds\")\n",
    "print(f\"Execution time: {(end_time - start_time)/60} minutes\") #41.09min / 25226 = 1.63 min/1000docs "
   ]
  },
  {
   "cell_type": "code",
   "execution_count": null,
   "id": "31fdb1d6-80b2-4320-987d-ba9152b9fa28",
   "metadata": {},
   "outputs": [],
   "source": [
    "#If visualizing\n",
    "w = MedspaCyVisualizerWidget(docs)"
   ]
  },
  {
   "cell_type": "markdown",
   "id": "0ee054ce-f3ba-4538-bde2-4c1e63930943",
   "metadata": {},
   "source": [
    "## Document Level performance"
   ]
  },
  {
   "cell_type": "code",
   "execution_count": null,
   "id": "50b2e4de-fca1-49d2-bebf-48a45ddc83cc",
   "metadata": {},
   "outputs": [],
   "source": [
    "db_server = 'vhacdwrb03.vha.med.va.gov'\n",
    "db_db = 'VINCI_CancerNLP'\n",
    "\n",
    "annot_df = table_import(\n",
    "\"\"\"\n",
    " SELECT distinct a.*,b.samp_date FROM [melanoma].[melanoma_all_provider_adj_annotations] a\n",
    "JOIN [melanoma].[melanoma_provider_schema_master_notes_table] b\n",
    "ON a.DocID = b.DocID\n",
    "WHERE split = 'train'\n",
    " \n",
    "\"\"\"   ,db_server,\n",
    "    db_db\n",
    ")\n",
    "annot_doc_df = pd.DataFrame({'DocID':annot_df.DocID.unique()})\n"
   ]
  },
  {
   "cell_type": "code",
   "execution_count": null,
   "id": "76655ac4-5e7e-4f28-a933-9ecb663da6aa",
   "metadata": {},
   "outputs": [],
   "source": [
    "transform_dict = data_transformation(docIDs=notes_df['docID'].tolist(),docs=docs)"
   ]
  },
  {
   "cell_type": "code",
   "execution_count": null,
   "id": "4d8809ca-408d-4872-babc-f6904cd347d2",
   "metadata": {},
   "outputs": [],
   "source": [
    "def transform_nlp_df_provider(top_grouped,binary_classifier=True):\n",
    "    nlp_df = pd.DataFrame()\n",
    "    nlp_df[['doc_id','Topography','Topography_start_span','Topography_end_span','breslow_measurement', 'clark','metastasis','ulceration_status','Mitotic_index','cutaneous','mucosal','ocular','melanoma_hypothetical',\t'melanoma_is_possible_existence','melanoma_historical','metastasis_hypothetical','metastasis_is_possible_existence','deep_margin_involvement','unspecific_or_uncertain_margin_involvement','deep_margin_involvement_negated','non_melanoma_transection','depth_greater_than_breslow_measurement','metastasis_historical','melanoma_unspecified_historical','melanoma_unspecified']] = top_grouped[['doc_id','Topography','Topography_start_span','Topography_end_span','breslow_depth_mm', 'clark_level','metastasis','ulceration_status','Mitotic_index','cutaneous','mucosal','ocular','melanoma_hypothetical',\t'melanoma_is_possible_existence','melanoma_historical','metastasis_hypothetical','metastasis_is_possible_existence','deep_margin_involvement','unspecific_or_uncertain_margin_involvement','deep_margin_involvement_negated','non_melanoma_transection','depth_greater_than_breslow_measurement','metastasis_historical','melanoma_unspecified_historical','melanoma_unspecified']].copy()\n",
    "    nlp_df['melanoma'] = 0\n",
    "    nlp_df.loc[(nlp_df[['cutaneous','mucosal','ocular','melanoma_historical','melanoma_unspecified_historical','melanoma_unspecified']] == 1).any(axis=1),'melanoma'] = 1 # 'melanoma_is_possible_existence'\n",
    "\n",
    "    nlp_df['transection'] = 0\n",
    "    nlp_df.loc[(nlp_df['deep_margin_involvement'] == 1),'transection'] = 1\n",
    "    nlp_df.loc[(nlp_df['depth_greater_than_breslow_measurement'] == 1) & (nlp_df['deep_margin_involvement_negated'] != 1),'transection'] = 1\n",
    "    \n",
    "    #nlp_df.loc[(nlp_df['unspecific_or_uncertain_margin_involvement'] == 1) & (nlp_df['deep_margin_involvement_negated'] == 0),'transection'] = 1\n",
    "\n",
    "    #Does not include cases of nonskin mel cases\n",
    "    nlp_df.loc[nlp_df['metastasis_historical'] == 1,'metastasis'] = 1\n",
    "\n",
    "    #setting: ulceration for melanoma only\n",
    "    #nlp_df.loc[(nlp_df['ulceration_status'] == 'present'),'ulceration_status'] = 1\n",
    "    nlp_df.loc[(nlp_df['ulceration_status'] == 'present') & (nlp_df['melanoma'] == 1),'ulceration_status'] = 1\n",
    "    nlp_df.loc[nlp_df['ulceration_status'] != 1,'ulceration_status'] = 0\n",
    "    \n",
    "    nlp_df.replace('None',np.nan,inplace=True)\n",
    "    if binary_classifier:\n",
    "        nlp_df.replace('No_MI',1,inplace=True)\n",
    "    else:\n",
    "        nlp_df.replace('No_MI',0,inplace=True)\n",
    "    if binary_classifier:\n",
    "        nlp_df.loc[nlp_df['breslow_measurement'].notna(),'breslow_measurement'] = 1\n",
    "        nlp_df.loc[nlp_df['clark'].notna(),'clark'] = 1\n",
    "        nlp_df.loc[((nlp_df['Mitotic_index'].notna()) & (nlp_df['Mitotic_index'] != 0)),'Mitotic_index'] = 1\n",
    "        \n",
    "        nlp_df.loc[nlp_df['breslow_measurement'] != 1,'breslow_measurement'] = 0\n",
    "        nlp_df.loc[nlp_df['clark'] != 1,'clark'] = 0\n",
    "        nlp_df.loc[nlp_df['Mitotic_index'] != 1,'Mitotic_index'] = 0\n",
    "\n",
    "    def safe_to_float(v):\n",
    "        try:\n",
    "            x = float(v)\n",
    "            return 1\n",
    "        except:\n",
    "            return 0\n",
    "            \n",
    "    def combine_sets(values):\n",
    "        combined = set()\n",
    "        for value in values:\n",
    "            if isinstance(value, set):\n",
    "                for val in value:\n",
    "                    if isinstance(val,int) or (isinstance(val,float)):\n",
    "                        combined.add(val)\n",
    "        return combined\n",
    "\n",
    "    if binary_classifier:\n",
    "        return nlp_df.groupby('doc_id').agg({'melanoma':'max','breslow_measurement':'max','clark':'max','metastasis':'max','ulceration_status':'max','Mitotic_index':'max','metastasis':'max','transection':'max'}).reset_index()\n",
    "    else:\n",
    "        return nlp_df.groupby('doc_id').agg({'melanoma':'max','breslow_measurement':combine_sets,'clark':combine_sets,'metastasis':'max','ulceration_status':'max','Mitotic_index':combine_sets,'metastasis':'max','transection':'max'}).reset_index()"
   ]
  },
  {
   "cell_type": "code",
   "execution_count": null,
   "id": "a5e4b429-4334-4ce5-b11f-3f4830d6275a",
   "metadata": {},
   "outputs": [],
   "source": [
    "top_grouped = grouping_top(transform_dict['piv_1_encoded'],0)\n",
    "nlp_doc_df = transform_nlp_df_provider(top_grouped,False)\n",
    "\n",
    "#This normalizes the annotations and rolls up the melanoma/metastasis cases on a document level\n",
    "#We used a different schema for the April 2025 tasks than previous task.\n",
    "mel_orig = annot_df[(annot_df['spanLabel'] == '2_MELANOMA_Histology') & (~annot_df['Temporality'].isin(['Pending','Possible or hypothetical'])) & (annot_df['Type'] != 'Melanoma in situ') & (annot_df['samp_date'] != pd.to_datetime('2025-04-25'))].DocID.unique().tolist()\n",
    "met_orig = annot_df[(annot_df['Suggested_primary_in_note'] == 'Melanoma') & (annot_df['Presence'] == 'Yes present') & (annot_df['samp_date'] != pd.to_datetime('2025-04-25'))].DocID.unique().tolist()\n",
    "mel_new = annot_df.loc[(annot_df.spanLabel == '2_MELANOMA_Histology') & (~annot_df.Temporality.isin(['Possible or hypothetical', 'Pending'])) & (~annot_df.Experiencer.isin(['Family- NO history', 'Family- YES history'])) & (~annot_df.Presence.isin(['Not present'])) & (annot_df.derived_status.isin(['Malignant'])) & (~annot_df.annotatedSpan.str.lower().str.contains('in situ')) & (~annot_df.annotatedSpan.str.lower().str.contains('in-situ')) & (~annot_df.annotatedSpan.str.lower().str.contains('lentigo')) & (~annot_df.annotatedSpan.str.contains('MIS')) & (annot_df['samp_date'] == pd.to_datetime('2025-04-25'))].DocID.unique().tolist()\n",
    "#mel_new = annot_df.loc[(annot_df.spanLabel == '2_MELANOMA_Histology') & (~annot_df.Temporality.isin(['Possible or hypothetical', 'Pending'])) & (~annot_df.Experiencer.isin(['Family- NO history', 'Family- YES history'])) & (~annot_df.Presence.isin(['Not present'])) & (annot_df.derived_status.isin(['Malignant'])) & (~annot_df.DocID.isin(annot_df.loc[annot_df.annotatedSpan.str.contains('in situ'),'DocID'].tolist())) & (~annot_df.DocID.isin(annot_df.loc[annot_df.annotatedSpan.str.contains('MIS'),'DocID'].tolist())) & (annot_df['samp_date'] == pd.to_datetime('2025-04-25'))].DocID.unique().tolist()\n",
    "met_new = annot_df.loc[(annot_df.spanLabel == 'Metastasis') & (~annot_df.Temporality.isin(['Possible or hypothetical', 'Pending'])) & (~annot_df.Experiencer.isin(['Family- NO history', 'Family- YES history'])) & (~annot_df.Presence.isin(['Not present'])) & (annot_df.Suggested_primary_in_note.isin(['Melanoma'])) & (annot_df['samp_date'] == pd.to_datetime('2025-04-25'))].DocID.unique().tolist()\n",
    "\n",
    "annot_doc_df['melanoma'] = 0\n",
    "annot_doc_df.loc[annot_doc_df.DocID.isin(mel_orig+mel_new),'melanoma'] = 1\n",
    "annot_doc_df['metastasis'] = 0\n",
    "annot_doc_df.loc[annot_doc_df.DocID.isin(met_orig+met_new),'metastasis'] = 1"
   ]
  },
  {
   "cell_type": "code",
   "execution_count": null,
   "id": "c5cc43f7-2d1b-445e-bbc8-399ee59bca33",
   "metadata": {},
   "outputs": [],
   "source": [
    "#Merge the normalized annotated data with normalized nlp output\n",
    "merged_doc_df = notes_df[['DocID']].merge(nlp_doc_df,left_on='DocID',right_on='doc_id',how='left')\n",
    "merged_doc_df = merged_doc_df.merge(annot_doc_df,on='DocID',how='left',suffixes=('_nlp','_annot')).fillna(0)"
   ]
  },
  {
   "cell_type": "code",
   "execution_count": null,
   "id": "5908313e-9b0e-4a6b-8a89-047bcf72bdea",
   "metadata": {},
   "outputs": [],
   "source": [
    "def value_comparison(m1,m2,match_empty_sets = 0):\n",
    "    \"\"\"Calculations for comparing multiple values per document\n",
    "    By default, \"\"\"\n",
    "    true_labels = []\n",
    "    predicted_labels = []\n",
    "    matches = 0\n",
    "    misses = 0\n",
    "    for a,b in zip(m1,m2):\n",
    "        if match_empty_sets:\n",
    "            if len(a) == 0 or pd.isna(a):\n",
    "                a = {'None'}\n",
    "            if len(b) == 0 or pd.isna(b):\n",
    "                b= {'None'}\n",
    "        else:\n",
    "            if pd.isna(a):\n",
    "                a = {}\n",
    "            if pd.isna(b):\n",
    "                b = {}\n",
    "        all_labels = set(a).union(set(b))\n",
    "        true_labels.extend([1 if x in a else 0 for x in all_labels])\n",
    "        predicted_labels.extend([1 if x in b else 0 for x in all_labels])\n",
    "        \n",
    "        if [1 if x in a else 0 for x in all_labels] == [1 if x in b else 0 for x in all_labels]:\n",
    "            matches += 1\n",
    "        else:\n",
    "            misses += 1\n",
    "        \n",
    "    \n",
    "    return classification_report(true_labels,predicted_labels,digits=3), matches / (matches + misses)"
   ]
  },
  {
   "cell_type": "code",
   "execution_count": null,
   "id": "a54d1e0a-f118-4581-a2a8-3f3b27853de2",
   "metadata": {},
   "outputs": [],
   "source": [
    "def melanoma_performance(df,binary_comparison=1):\n",
    "    \"\"\"Calculate document level performance\"\"\"\n",
    "    if binary_comparison:\n",
    "        val_comparison = 0\n",
    "    else:\n",
    "        val_comparison = ['breslow_measurement','clark','Mitotic_index']\n",
    "    for feat in ['melanoma','metastasis']:\n",
    "        print(f\"\\nPerformance for {feat}:\\n\")\n",
    "        if binary_comparison:\n",
    "            print(classification_report(df[feat + '_annot'].tolist(),df[feat + '_nlp'].tolist(),digits=3))\n",
    "        else:\n",
    "            if feat in val_comparison:\n",
    "                perf = value_comparison(df[feat + '_annot'].tolist(),df[feat + '_nlp'].tolist(),match_empty_sets =0)\n",
    "                print(perf[0])\n",
    "                print(\"Doc-level accuracy: \",perf[1])\n",
    "            else:\n",
    "                print(classification_report(df[feat + '_annot'].tolist(),df[feat + '_nlp'].tolist(),digits=3))\n",
    "    "
   ]
  },
  {
   "cell_type": "code",
   "execution_count": null,
   "id": "ed1fe5f5-bc69-4145-ab5b-7fcf3e2f343d",
   "metadata": {},
   "outputs": [],
   "source": [
    "melanoma_performance(merged_doc_df,1)"
   ]
  }
 ],
 "metadata": {
  "kernelspec": {
   "display_name": "Python 3 (ipykernel)",
   "language": "python",
   "name": "python3"
  },
  "language_info": {
   "codemirror_mode": {
    "name": "ipython",
    "version": 3
   },
   "file_extension": ".py",
   "mimetype": "text/x-python",
   "name": "python",
   "nbconvert_exporter": "python",
   "pygments_lexer": "ipython3",
   "version": "3.10.17"
  }
 },
 "nbformat": 4,
 "nbformat_minor": 5
}
