{
 "cells": [
  {
   "cell_type": "code",
   "execution_count": null,
   "id": "1dac59de-bb43-46fa-8fe6-99d3f24ffd59",
   "metadata": {},
   "outputs": [],
   "source": [
    "import sys\n",
    "#sys.path.append('../condensed_pipeline') #Include path to top_morph_met_nlp if not current directory\n",
    "from melanoma_nlp import *\n",
    "from medspacy.visualization import MedspaCyVisualizerWidget\n",
    "from medspacy.visualization import visualize_dep, visualize_ent\n",
    "from sklearn.metrics import accuracy_score,precision_score,recall_score,f1_score, confusion_matrix, classification_report"
   ]
  },
  {
   "cell_type": "markdown",
   "id": "5305abb8-caf3-44d4-9e7d-d4801ffc9cd2",
   "metadata": {},
   "source": [
    "## Table import and setup\n",
    "Changes required for the below cell for table import, docID, and sourceText setup"
   ]
  },
  {
   "cell_type": "code",
   "execution_count": null,
   "id": "07d940ce-f88c-4d37-ba83-fb37d30e3fe0",
   "metadata": {},
   "outputs": [],
   "source": [
    "##If needed, change the db_conn_str used\n",
    "#This is the connection information used by 'pyodbc.connect(***db_conn_str***)'\n",
    "#This will be removed when uploading to github\n",
    "db_server = ''\n",
    "db_db = ''\n",
    "\n",
    "notes_df = table_import(\n",
    "\"\"\"\n",
    "    SELECT DISTINCT * FROM ***INSERT INPUT TABLE HERE***\n",
    "\"\"\",\n",
    "    db_server,\n",
    "    db_db\n",
    ")\n",
    "\n",
    "### Below set the docID to whatever the unique id is\n",
    "#notes_df['docID'] = notes_df['textID']#notes_df.ReportID.astype(str) + \"_\" + notes_df.DocumentID.astype(str) + \"_\" + notes_df.SourceTable.astype(str)\n",
    "\n",
    "### Below set the sourceText to whatever the text to-be-processed is\n",
    "sourceText_col_name = 'sourceText'"
   ]
  },
  {
   "cell_type": "code",
   "execution_count": null,
   "id": "28052269-b8d3-4f33-91b0-8c40a9e2a712",
   "metadata": {},
   "outputs": [],
   "source": [
    "nlp = build_nlp(file_path='../resources')"
   ]
  },
  {
   "cell_type": "code",
   "execution_count": null,
   "id": "c1cf736c-46d8-4416-be84-02ba4c88016a",
   "metadata": {},
   "outputs": [],
   "source": [
    "nlp_checker(\"melanoma ulcerated\",nlp)"
   ]
  },
  {
   "cell_type": "code",
   "execution_count": null,
   "id": "cfa36c6f-9154-43d6-805a-69fd97014692",
   "metadata": {},
   "outputs": [],
   "source": [
    "import time\n",
    "\n",
    "start_time = time.time()\n",
    "\n",
    "docs = run_nlp(notes_df[sourceText_col_name].astype(str),nlp)\n",
    "\n",
    "end_time = time.time()\n",
    "\n",
    "print(f\"Execution time: {end_time - start_time} seconds\")\n",
    "print(f\"Execution time: {(end_time - start_time)/60} minutes\")"
   ]
  },
  {
   "cell_type": "code",
   "execution_count": null,
   "id": "cf061c5e-d712-4961-bb6c-c7f9c0ff3546",
   "metadata": {},
   "outputs": [],
   "source": [
    "w = MedspaCyVisualizerWidget(docs)"
   ]
  },
  {
   "cell_type": "markdown",
   "id": "0eb70dfe-c9c8-47f6-8392-0e1fe7a2888f",
   "metadata": {},
   "source": [
    "## Data Trasnformations"
   ]
  },
  {
   "cell_type": "code",
   "execution_count": null,
   "id": "6378bdd8-b7f2-45a1-bc8c-b0708ea21be8",
   "metadata": {
    "scrolled": true
   },
   "outputs": [],
   "source": [
    "transform_dict = data_transformation(docIDs=notes_df['docID'].tolist(),docs=docs)\n",
    "transform_dict['top_grouped']"
   ]
  },
  {
   "cell_type": "code",
   "execution_count": null,
   "id": "dacef26e-f8ec-4ac9-b170-e9b89b977076",
   "metadata": {},
   "outputs": [],
   "source": [
    "nlp_doc_df = transform_nlp_df(transform_dict['top_grouped'])"
   ]
  },
  {
   "cell_type": "markdown",
   "id": "a5f35d85-f911-431f-895d-d263265b7dbd",
   "metadata": {},
   "source": [
    "## Check output"
   ]
  },
  {
   "cell_type": "code",
   "execution_count": null,
   "id": "66ec68c6-c046-4ee8-b69b-794b0df5846c",
   "metadata": {},
   "outputs": [],
   "source": [
    "pd.set_option('display.max_columns',100)\n",
    "doc_num = 4163 #This number matches the number from medspacyvisualizerwidget\n",
    "check_table = transform_dict['top_grouped']\n",
    "check_table[check_table.doc_id == notes_df.iloc[doc_num].docID]"
   ]
  },
  {
   "cell_type": "code",
   "execution_count": null,
   "id": "191aeef8-e70a-4a44-8132-0d869e802f0b",
   "metadata": {},
   "outputs": [],
   "source": [
    "docID_val = '' #put docID here\n",
    "visualize_ent(nlp(notes_df[notes_df['docID'] == docID_val].sourceText.tolist()[0]))\n",
    "top_grouped = transform_dict['top_grouped']\n",
    "top_grouped[top_grouped['doc_id'] == docID_val]"
   ]
  },
  {
   "cell_type": "markdown",
   "id": "2568fce6-6aa6-459c-9844-7194b76435dd",
   "metadata": {
    "jp-MarkdownHeadingCollapsed": true
   },
   "source": [
    "# Performance check"
   ]
  },
  {
   "cell_type": "code",
   "execution_count": null,
   "id": "932ae2e4-fe07-4183-86e2-549c8ea5fe81",
   "metadata": {},
   "outputs": [],
   "source": [
    "db_server = ''\n",
    "db_db = ''\n",
    "\n",
    "annot_df = table_import(\n",
    "\"\"\"\n",
    " SELECT * FROM ****INSERT ANNOTATION SET***\n",
    "\"\"\"   ,db_server,\n",
    "    db_db\n",
    ")"
   ]
  },
  {
   "cell_type": "code",
   "execution_count": null,
   "id": "a98c9333-66f6-45f5-9b99-f9b60bce0671",
   "metadata": {},
   "outputs": [],
   "source": [
    "annot_doc_df = transform_annot_df(annot_df)"
   ]
  },
  {
   "cell_type": "code",
   "execution_count": null,
   "id": "2e35edc6-2380-4de4-90a8-e74e06093fd2",
   "metadata": {},
   "outputs": [],
   "source": [
    "merged_doc_df = notes_df[['textID']].merge(nlp_doc_df,left_on='textID',right_on='doc_id',how='left')\n",
    "merged_doc_df = merged_doc_df.merge(annot_doc_df,on='textID',how='left')\n",
    "binary_classification = 1\n",
    "if binary_classification:\n",
    "    merged_doc_df[['breslow_measurement_x','clark_x','Mitotic_index_x','breslow_measurement_y','clark_y','Mitotic_index_y']] = merged_doc_df[['breslow_measurement_x','clark_x','Mitotic_index_x','breslow_measurement_y','clark_y','Mitotic_index_y']].fillna(0)\n",
    "else:\n",
    "    merged_doc_df[['breslow_measurement_x','clark_x','Mitotic_index_x','breslow_measurement_y','clark_y','Mitotic_index_y']] = merged_doc_df[['breslow_measurement_x','clark_x','Mitotic_index_x','breslow_measurement_y','clark_y','Mitotic_index_y']].applymap(lambda x: set() if pd.isna(x) else x)\n",
    "merged_doc_df[['melanoma_x','metastasis_x','ulceration_status_x','melanoma_y','metastasis_y','ulceration_status_y']] = merged_doc_df[['melanoma_x','metastasis_x','ulceration_status_x','melanoma_y','metastasis_y','ulceration_status_y']].fillna(0)"
   ]
  },
  {
   "cell_type": "code",
   "execution_count": null,
   "id": "5908313e-9b0e-4a6b-8a89-047bcf72bdea",
   "metadata": {},
   "outputs": [],
   "source": [
    "def value_comparison(m1,m2,match_empty_sets = 0):\n",
    "    true_labels = []\n",
    "    predicted_labels = []\n",
    "    matches = 0\n",
    "    misses = 0\n",
    "    for a,b in zip(m1,m2):\n",
    "        if match_empty_sets:\n",
    "            if len(a) == 0 or pd.isna(a):\n",
    "                a = {'None'}\n",
    "            if len(b) == 0 or pd.isna(b):\n",
    "                b= {'None'}\n",
    "        else:\n",
    "            if pd.isna(a):\n",
    "                a = {}\n",
    "            if pd.isna(b):\n",
    "                b = {}\n",
    "        all_labels = set(a).union(set(b))\n",
    "        true_labels.extend([1 if x in a else 0 for x in all_labels])\n",
    "        predicted_labels.extend([1 if x in b else 0 for x in all_labels])\n",
    "        \n",
    "        if [1 if x in a else 0 for x in all_labels] == [1 if x in b else 0 for x in all_labels]:\n",
    "            matches += 1\n",
    "        else:\n",
    "            misses += 1\n",
    "        \n",
    "    \n",
    "    return classification_report(true_labels,predicted_labels,digits=3), matches / (matches + misses)"
   ]
  },
  {
   "cell_type": "code",
   "execution_count": null,
   "id": "a54d1e0a-f118-4581-a2a8-3f3b27853de2",
   "metadata": {},
   "outputs": [],
   "source": [
    "##Notes that y is considered ground truth here\n",
    "def melanoma_performance(df,binary_comparison=1):\n",
    "    if binary_comparison:\n",
    "        val_comparison = 0\n",
    "    else:\n",
    "        val_comparison = ['breslow_measurement','clark','Mitotic_index']\n",
    "    for feat in ['melanoma','breslow_measurement','clark','metastasis','ulceration_status','Mitotic_index']:\n",
    "        print(f\"\\nPerformance for {feat}:\\n\")\n",
    "        if binary_comparison:\n",
    "            print(classification_report(df[feat + '_y'].tolist(),df[feat + '_x'].tolist(),digits=3))\n",
    "        else:\n",
    "            if feat in val_comparison:\n",
    "                perf = value_comparison(df[feat + '_y'].tolist(),df[feat + '_x'].tolist(),match_empty_sets =0)\n",
    "                print(perf[0])\n",
    "                print(\"Doc-level accuracy: \",perf[1])\n",
    "            else:\n",
    "                print(classification_report(df[feat + '_y'].tolist(),df[feat + '_x'].tolist(),digits=3))\n",
    "    "
   ]
  },
  {
   "cell_type": "code",
   "execution_count": null,
   "id": "ed1fe5f5-bc69-4145-ab5b-7fcf3e2f343d",
   "metadata": {},
   "outputs": [],
   "source": [
    "melanoma_performance(merged_doc_df)"
   ]
  },
  {
   "cell_type": "markdown",
   "id": "94ba53aa-d513-4015-94c6-eb19a38ec61b",
   "metadata": {},
   "source": [
    "# UPLOADS"
   ]
  },
  {
   "cell_type": "code",
   "execution_count": null,
   "id": "67444ec4-83e2-446f-8b95-c58b61275a4c",
   "metadata": {},
   "outputs": [],
   "source": [
    "import pyodbc\n",
    "##Change destination table below\n",
    "conn_list = upload_to_cdw(df=transform_dict['top_grouped'].fillna('None'),dest_table='',db_name='',annotated_span_len = 8000,varchar_len = 400,other_int_col=[],other_float_col=[],db_server=db_server, db_db=db_db)\n",
    "conn_list = upload_to_cdw(df=transform_dict['long_df'].fillna('None'),dest_table='',db_name='',annotated_span_len = 8000,varchar_len = 400,other_int_col=[],other_float_col=[],db_server=db_server, db_db=db_db)"
   ]
  }
 ],
 "metadata": {
  "kernelspec": {
   "display_name": "Python 3 (ipykernel)",
   "language": "python",
   "name": "python3"
  },
  "language_info": {
   "codemirror_mode": {
    "name": "ipython",
    "version": 3
   },
   "file_extension": ".py",
   "mimetype": "text/x-python",
   "name": "python",
   "nbconvert_exporter": "python",
   "pygments_lexer": "ipython3",
   "version": "3.10.15"
  }
 },
 "nbformat": 4,
 "nbformat_minor": 5
}
